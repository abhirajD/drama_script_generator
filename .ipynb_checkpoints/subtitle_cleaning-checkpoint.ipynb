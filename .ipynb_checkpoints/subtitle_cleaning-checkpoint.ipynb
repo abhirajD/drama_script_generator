{
 "cells": [
  {
   "cell_type": "markdown",
   "metadata": {},
   "source": [
    "# Prepping SRT's\n",
    "\n",
    "As discussed we want subtitles to be our story-tellers.\n",
    "We need to get the content from srt's in a well-formatted manner. And thats what we are goin to do in this notebook.\n",
    "I am planning to use a python library called srt to dump the contents of each timed dialog.\n",
    "This can easily be done using regex too. "
   ]
  },
  {
   "cell_type": "code",
   "execution_count": 1,
   "metadata": {
    "collapsed": true
   },
   "outputs": [],
   "source": [
    "import pysrt\n",
    "import os"
   ]
  },
  {
   "cell_type": "code",
   "execution_count": 2,
   "metadata": {
    "collapsed": true
   },
   "outputs": [],
   "source": [
    "path_to_srt = 'dataset/raw_srt/'\n",
    "path_to_content = 'dataset/srt_content/'"
   ]
  },
  {
   "cell_type": "code",
   "execution_count": 18,
   "metadata": {},
   "outputs": [],
   "source": [
    "srt_files = sorted(os.listdir(path = path_to_srt))\n",
    "\n",
    "for srt_file in srt_files:\n",
    "  subs = pysrt.open( os.path.join(path_to_srt, srt_file), encoding='utf-8')\n",
    "  #open srt_content\n",
    "  content_file_name = srt_file.replace('.srt', '.content')\n",
    "  content_file_path = os.path.join(path_to_content, content_file_name)\n",
    "  \n",
    "  if not os.path.exists(content_file_path):\n",
    "    with open(content_file_path, 'w', encoding='utf-8') as content_file:\n",
    "      for dialog in subs:\n",
    "        content_file.write(dialog.text)"
   ]
  },
  {
   "cell_type": "code",
   "execution_count": 14,
   "metadata": {},
   "outputs": [
    {
     "data": {
      "text/plain": [
       "'01-Pilot.720pHDTV.en.content'"
      ]
     },
     "execution_count": 14,
     "metadata": {},
     "output_type": "execute_result"
    }
   ],
   "source": [
    "srt_file = srt_files[0]\n",
    "srt_file.replace('.srt', '.content')"
   ]
  },
  {
   "cell_type": "code",
   "execution_count": null,
   "metadata": {
    "collapsed": true
   },
   "outputs": [],
   "source": []
  }
 ],
 "metadata": {
  "kernelspec": {
   "display_name": "Python 3",
   "language": "python",
   "name": "python3"
  },
  "language_info": {
   "codemirror_mode": {
    "name": "ipython",
    "version": 3
   },
   "file_extension": ".py",
   "mimetype": "text/x-python",
   "name": "python",
   "nbconvert_exporter": "python",
   "pygments_lexer": "ipython3",
   "version": "3.6.3"
  }
 },
 "nbformat": 4,
 "nbformat_minor": 2
}
